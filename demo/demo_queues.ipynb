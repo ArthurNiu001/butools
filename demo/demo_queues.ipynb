{
 "cells": [
  {
   "cell_type": "markdown",
   "metadata": {},
   "source": [
    "# Demonstration of the BuTools Queues package"
   ]
  },
  {
   "cell_type": "markdown",
   "metadata": {},
   "source": [
    "Set the precision and import the necessary packages"
   ]
  },
  {
   "cell_type": "code",
   "execution_count": 1,
   "metadata": {
    "collapsed": false
   },
   "outputs": [
    {
     "name": "stdout",
     "output_type": "stream",
     "text": [
      "Butools V2.0\n",
      "Packages loaded: utils, mc, moments, reptrans, trace, ph, dph, map, dmap, fitting, mam, queues\n",
      "Global variables: \n",
      "butools.verbose = False , butools.checkInput = True , butools.checkPrecision = 1e-12\n"
     ]
    }
   ],
   "source": [
    "%precision %g\n",
    "%run \"~/github/butools/Python/BuToolsInit.py\""
   ]
  },
  {
   "cell_type": "markdown",
   "metadata": {},
   "source": [
    "The BuTools Queues package supports two different kind of queues:\n",
    "* discrete state queues, where the jobs (customers) are discrete,\n",
    "* continuous state queues, where the jobs (customers) are infinitesimally small fluid drops."
   ]
  },
  {
   "cell_type": "markdown",
   "metadata": {},
   "source": [
    "## Discrete queues"
   ]
  },
  {
   "cell_type": "markdown",
   "metadata": {},
   "source": [
    "### The MAP/MAP/1 queue"
   ]
  },
  {
   "cell_type": "markdown",
   "metadata": {},
   "source": [
    "The most basic queue is the MAP/MAP/1 queue, which is defined by 2 MAPs: $(D_0,D_1)$ generates the arrivals, $(S_0,S_1)$ the service times."
   ]
  },
  {
   "cell_type": "code",
   "execution_count": 2,
   "metadata": {
    "collapsed": false
   },
   "outputs": [],
   "source": [
    "D0 = ml.matrix([[-8., 1., 2.],[0., -6., 4.],[3., 0., -3.]])\n",
    "D1 = ml.matrix([[4., 1., 0.],[0., 2., 0.],[0., 0., 0.]])\n",
    "S0 = ml.matrix([[-10., 4.],[0., -7.]])\n",
    "S1 = ml.matrix([[5., 1.],[4., 3.]])"
   ]
  },
  {
   "cell_type": "markdown",
   "metadata": {},
   "source": [
    "All performance measures are calculated by the **MAPMAP1** function. After specifying the arrival and service MAP, the required performance measures are listed, and the function gives them back in the same order as requested. For example, the distribution of the number of customers in the system up to level 10 and the first 5 moments of the number of customers in the system are obtained as"
   ]
  },
  {
   "cell_type": "code",
   "execution_count": 3,
   "metadata": {
    "collapsed": false
   },
   "outputs": [
    {
     "name": "stdout",
     "output_type": "stream",
     "text": [
      "distribution= [  6.76969093e-01   1.88906015e-01   7.95098846e-02   3.25628154e-02\n",
      "   1.31820081e-02   5.30870154e-03   2.13277062e-03   8.55833552e-04\n",
      "   3.43222964e-04   1.37603057e-04   5.51577667e-05]\n",
      "moments= [0.54863953186413617, 1.3060488095463447, 4.3570044249027839, 19.192953582041419, 105.38633755592997]\n"
     ]
    }
   ],
   "source": [
    "ncd, ncm = MAPMAP1(D0, D1, S0, S1, \"ncDistr\", 11, \"ncMoms\", 5)\n",
    "print(\"distribution=\",ncd)\n",
    "print(\"moments=\",ncm)"
   ]
  },
  {
   "cell_type": "markdown",
   "metadata": {},
   "source": [
    "The distribution of the number of customers in a MAP/MAP/1 queue is discrete phase-type (DPH), it is possible to obtain the parameters of the PH as well"
   ]
  },
  {
   "cell_type": "code",
   "execution_count": 4,
   "metadata": {
    "collapsed": false
   },
   "outputs": [
    {
     "name": "stdout",
     "output_type": "stream",
     "text": [
      "alpha= [[ 0.06713337  0.07532832  0.04070001  0.04705391  0.03573592  0.05707938]]\n",
      "A= [[ 0.28130241  0.04629223  0.00761264  0.00344557  0.          0.        ]\n",
      " [ 0.1055167   0.33506431  0.00835481  0.01222992  0.          0.        ]\n",
      " [ 0.17544233  0.04581069  0.13665561  0.01056275  0.          0.        ]\n",
      " [ 0.07984336  0.20353241  0.04226532  0.16551629  0.          0.        ]\n",
      " [ 0.20817723  0.09182641  0.05939033  0.01351607  0.          0.        ]\n",
      " [ 0.13250054  0.20873513  0.03479216  0.06576387  0.          0.        ]]\n"
     ]
    }
   ],
   "source": [
    "alphap, Ap = MAPMAP1(D0, D1, S0, S1, \"ncDistrDPH\")\n",
    "print(\"alpha=\",alphap)\n",
    "print(\"A=\",Ap)"
   ]
  },
  {
   "cell_type": "markdown",
   "metadata": {},
   "source": [
    "The moments and the distribution can be obtained by the PmfFromDPH and MomentsFromDPH functions of the DPH package. One of the main strengths of BuTools is that the packages play together nicely."
   ]
  },
  {
   "cell_type": "code",
   "execution_count": 5,
   "metadata": {
    "collapsed": false
   },
   "outputs": [
    {
     "name": "stdout",
     "output_type": "stream",
     "text": [
      "distribution= [  6.76969093e-01   1.88906015e-01   7.95098846e-02   3.25628154e-02\n",
      "   1.31820081e-02   5.30870154e-03   2.13277062e-03   8.55833552e-04\n",
      "   3.43222964e-04   1.37603057e-04   5.51577667e-05]\n",
      "moments= [0.54863953186413628, 1.3060488095463452, 4.3570044249027857, 19.192953582041422, 105.38633755593]\n"
     ]
    }
   ],
   "source": [
    "print(\"distribution=\",PmfFromDPH(alphap,Ap,np.arange(11)))\n",
    "print(\"moments=\",MomentsFromDPH(alphap,Ap,5))"
   ]
  },
  {
   "cell_type": "markdown",
   "metadata": {},
   "source": [
    "Let us plot the distribution."
   ]
  },
  {
   "cell_type": "code",
   "execution_count": 6,
   "metadata": {
    "collapsed": false
   },
   "outputs": [
    {
     "data": {
      "image/png": "[encoded data removed]",
      "text/plain": [
       "<matplotlib.figure.Figure at 0x7ffa0dd6eba8>"
      ]
     },
     "metadata": {},
     "output_type": "display_data"
    }
   ],
   "source": [
    "ncd = MAPMAP1(D0, D1, S0, S1, \"ncDistr\", 10)\n",
    "plt.figure(figsize=(12,4))\n",
    "plt.subplot(121)\n",
    "plt.title(\"Distribution of the number of customers, body\")\n",
    "plt.plot(ncd)\n",
    "plt.subplot(122)\n",
    "plt.title(\"Distribution of the number of customers, tail\")\n",
    "plt.loglog(ncd);"
   ]
  },
  {
   "cell_type": "markdown",
   "metadata": {},
   "source": [
    "Note that the matrix-geometric representation of the distribution of the number of customers can be obtained as well, which is somewhat more stable numerically than the DPH one. In this case we have"
   ]
  },
  {
   "cell_type": "code",
   "execution_count": 7,
   "metadata": {
    "collapsed": false
   },
   "outputs": [
    {
     "name": "stdout",
     "output_type": "stream",
     "text": [
      "distribution= [  6.76969093e-01   1.88906015e-01   7.95098846e-02   3.25628154e-02\n",
      "   1.31820081e-02   5.30870154e-03   2.13277062e-03   8.55833552e-04\n",
      "   3.43222964e-04   1.37603057e-04   5.51577667e-05]\n",
      "moments= [0.54863953186413594, 1.3060488095463438, 4.3570044249027813, 19.192953582041405, 105.38633755592987]\n"
     ]
    }
   ],
   "source": [
    "alpha, A = MAPMAP1(D0, D1, S0, S1, \"ncDistrMG\")\n",
    "print(\"distribution=\",PmfFromMG(alpha,A,np.arange(11)))\n",
    "print(\"moments=\",MomentsFromMG(alpha,A,5))"
   ]
  },
  {
   "cell_type": "markdown",
   "metadata": {},
   "source": [
    "The sojourn time of customers is PH distributed as well. The moments and the cdf at the given points can be obtained either directly as"
   ]
  },
  {
   "cell_type": "code",
   "execution_count": 8,
   "metadata": {
    "collapsed": false
   },
   "outputs": [
    {
     "name": "stdout",
     "output_type": "stream",
     "text": [
      "distribution= [  1.11022302e-16   3.12202005e-01   5.31969389e-01   6.83448493e-01\n",
      "   7.86668498e-01   8.56546935e-01   9.03671626e-01   9.35376392e-01\n",
      "   9.56674470e-01   9.70967143e-01   9.80551790e-01]\n",
      "moments= [0.25907977893584216, 0.1314530565761404, 0.099109779753652538]\n"
     ]
    }
   ],
   "source": [
    "points = np.arange(0.,1.1,0.1)\n",
    "std, stm = MAPMAP1(D0, D1, S0, S1, \"stDistr\", points, \"stMoms\", 3)\n",
    "print(\"distribution=\",std)\n",
    "print(\"moments=\",stm)"
   ]
  },
  {
   "cell_type": "markdown",
   "metadata": {},
   "source": [
    "...or by requesting the parameters of the PH (or ME) distribution as well:"
   ]
  },
  {
   "cell_type": "code",
   "execution_count": 9,
   "metadata": {
    "collapsed": false
   },
   "outputs": [
    {
     "name": "stdout",
     "output_type": "stream",
     "text": [
      "distribution= [ 0.          0.312202    0.53196939  0.68344849  0.7866685   0.85654694\n",
      "  0.90367163  0.93537639  0.95667447  0.97096714  0.98055179]\n",
      "moments= [0.25907977893584228, 0.13145305657614043, 0.099109779753652566]\n"
     ]
    }
   ],
   "source": [
    "alphap, Ap = MAPMAP1(D0, D1, S0, S1, \"stDistrPH\")\n",
    "print(\"distribution=\",CdfFromPH(alphap,Ap,points))\n",
    "print(\"moments=\",MomentsFromPH(alphap,Ap,3))"
   ]
  },
  {
   "cell_type": "code",
   "execution_count": 10,
   "metadata": {
    "collapsed": false
   },
   "outputs": [
    {
     "name": "stdout",
     "output_type": "stream",
     "text": [
      "distribution= [  1.11022302e-16   3.12202005e-01   5.31969389e-01   6.83448493e-01\n",
      "   7.86668498e-01   8.56546935e-01   9.03671626e-01   9.35376392e-01\n",
      "   9.56674470e-01   9.70967143e-01   9.80551790e-01]\n",
      "moments= [0.25907977893584216, 0.1314530565761404, 0.099109779753652524]\n"
     ]
    }
   ],
   "source": [
    "alpha, A = MAPMAP1(D0, D1, S0, S1, \"stDistrME\")\n",
    "print(\"distribution=\",CdfFromME(alpha,A,points))\n",
    "print(\"moments=\",MomentsFromME(alpha,A,3))"
   ]
  },
  {
   "cell_type": "markdown",
   "metadata": {},
   "source": [
    "Check if Little's law holds, thus $E(X)=\\lambda E(T)$, where E(X) is the mean number of customers, and E(T) is the mean sojourn time"
   ]
  },
  {
   "cell_type": "code",
   "execution_count": 11,
   "metadata": {
    "collapsed": false
   },
   "outputs": [
    {
     "name": "stdout",
     "output_type": "stream",
     "text": [
      "Mean number of customers =  0.548639531864\n",
      "Mean sojourn time * lambda =  0.548639531864\n"
     ]
    }
   ],
   "source": [
    "lambd = 1./MarginalMomentsFromMAP(D0,D1,1)[0]\n",
    "print(\"Mean number of customers = \", ncm[0])\n",
    "print(\"Mean sojourn time * lambda = \", stm[0]*lambd)"
   ]
  },
  {
   "cell_type": "markdown",
   "metadata": {},
   "source": [
    "Plot the pdf of the sojourn time"
   ]
  },
  {
   "cell_type": "code",
   "execution_count": 12,
   "metadata": {
    "collapsed": false
   },
   "outputs": [
    {
     "data": {
      "image/png": "[encoded data removed]",
      "text/plain": [
       "<matplotlib.figure.Figure at 0x7ffa0d93e390>"
      ]
     },
     "metadata": {},
     "output_type": "display_data"
    }
   ],
   "source": [
    "xp = np.linspace(0,2,100)\n",
    "yp = PdfFromPH(alpha, A, xp)\n",
    "plt.title(\"Sojourn time distribution\")\n",
    "plt.plot(xp,yp);"
   ]
  },
  {
   "cell_type": "markdown",
   "metadata": {},
   "source": [
    "Again, any performance measures can be requested in a single function call, this way the time (and memory) consuming  repeated calculation of several quantities can be avoided."
   ]
  },
  {
   "cell_type": "code",
   "execution_count": 13,
   "metadata": {
    "collapsed": true
   },
   "outputs": [],
   "source": [
    "stm, ncm, alpha, A,ncd = MAPMAP1 (D0, D1, S0, S1, \"stMoms\", 3, \"ncMoms\", 4, \"stDistrME\", \"ncDistr\", 20)"
   ]
  },
  {
   "cell_type": "markdown",
   "metadata": {},
   "source": [
    "Note that if the arrival and/or service times are PH distributed, the MAPMAP1 function can still solve the system. Below a PH/PH/1 queue is solved, where the arrival times are given by PH $(\\delta,D)$ and the service times by $(\\sigma,S)$:"
   ]
  },
  {
   "cell_type": "code",
   "execution_count": 14,
   "metadata": {
    "collapsed": true
   },
   "outputs": [],
   "source": [
    "delta = ml.matrix([[0.5,0.1,0.4]])\n",
    "D = ml.matrix([[-8., 1., 2.],[0., -6., 4.],[3., 0., -3.]])\n",
    "sigma = ml.matrix([[0.2,0.7,0.1]])\n",
    "S = ml.matrix([[-10., 4., 0.],[5., -7., 2.],[1., 2., -8.]])\n",
    "D0 = D\n",
    "D1 = np.sum(-D,1)*delta\n",
    "S0 = S\n",
    "S1 = np.sum(-S,1)*sigma\n",
    "stm, ncm, alpha, A,ncd = MAPMAP1 (D0, D1, S0, S1, \"stMoms\", 3, \"ncMoms\", 4, \"stDistrME\", \"ncDistr\", 20)"
   ]
  },
  {
   "cell_type": "markdown",
   "metadata": {},
   "source": [
    "### The QBD queue"
   ]
  },
  {
   "cell_type": "markdown",
   "metadata": {},
   "source": [
    "The QBD queues are obtained by interpreting a QBD process as a queue: level forward transitions are interpreted as arrivals, level backward transitions as services. QBD queues are more general than MAP/MAP/1 queues, since the arrival and service processes are independent."
   ]
  },
  {
   "cell_type": "markdown",
   "metadata": {},
   "source": [
    "The analysis of QBD queues is done by the **QBDQueue** function, which is parameterized exactly as the MAPMAP1 function above."
   ]
  },
  {
   "cell_type": "code",
   "execution_count": 15,
   "metadata": {
    "collapsed": true
   },
   "outputs": [],
   "source": [
    "B = ml.matrix([[0., 0.],[3., 4.]])\n",
    "F = ml.matrix([[1., 0.],[2., 0.]])\n",
    "L = ml.matrix([[-6., 5.],[3., -12.]])\n",
    "L0 = ml.matrix([[-6., 5.],[6., -8.]])"
   ]
  },
  {
   "cell_type": "code",
   "execution_count": 16,
   "metadata": {
    "collapsed": false
   },
   "outputs": [],
   "source": [
    "ncd, ncm = QBDQueue(B, L, F, L0, \"ncDistr\", 11, \"ncMoms\", 5)\n",
    "alphap, Ap = QBDQueue(B, L, F, L0, \"ncDistrDPH\")\n",
    "alpha, A = QBDQueue(B, L, F, L0, \"ncDistrMG\")\n",
    "std, stm = QBDQueue(B, L, F, L0, \"stDistr\", np.arange(0.,1.1,0.1), \"stMoms\", 5)\n",
    "betap, Bp = QBDQueue(B, L, F, L0, \"stDistrPH\")\n",
    "betame, Bme = QBDQueue(B, L, F, L0, \"stDistrME\")"
   ]
  },
  {
   "cell_type": "markdown",
   "metadata": {},
   "source": [
    "Again, any number of performance measures can be requested in any order in a single function call."
   ]
  },
  {
   "cell_type": "markdown",
   "metadata": {},
   "source": [
    "Let us plot the distribution of the number of customers and the density of the sojourn time:"
   ]
  },
  {
   "cell_type": "code",
   "execution_count": 17,
   "metadata": {
    "collapsed": false
   },
   "outputs": [
    {
     "data": {
      "image/png": "[encoded data removed]",
      "text/plain": [
       "<matplotlib.figure.Figure at 0x7ffa0d95d390>"
      ]
     },
     "metadata": {},
     "output_type": "display_data"
    }
   ],
   "source": [
    "plt.figure(figsize=(12,4))\n",
    "plt.subplot(121)\n",
    "plt.title(\"Distribution of the number of customers\")\n",
    "ncd = QBDQueue(B, L, F, L0, \"ncDistr\", 10)\n",
    "plt.plot(ncd)\n",
    "plt.subplot(122)\n",
    "plt.title(\"Density of the sojourn time\")\n",
    "stdx = np.linspace (0,3,100)\n",
    "stdy = PdfFromME(betame,Bme,stdx)\n",
    "plt.plot(stdx,stdy);"
   ]
  },
  {
   "cell_type": "markdown",
   "metadata": {},
   "source": [
    "Note that the PH distribution of the sojourn time in case of QBD queues is much larger that the one of MAP/MAP/1 queues (size $N^2$ vs. size $N$). Thus, if the arrival and service processes are independent, the MAP/MAP/1 solver should be used."
   ]
  },
  {
   "cell_type": "markdown",
   "metadata": {},
   "source": [
    "### Multi-type MMAP[K]/PH[K]/1 queue"
   ]
  },
  {
   "cell_type": "markdown",
   "metadata": {},
   "source": [
    "In this model there are several (K) customer types. The arrival process is a MMAP, and the different customer types have different (PH) service time distributions."
   ]
  },
  {
   "cell_type": "code",
   "execution_count": 18,
   "metadata": {
    "collapsed": true
   },
   "outputs": [],
   "source": [
    "D0 = ml.matrix([[-5.49, 0., 1.15, 0.],[0., -2.29, 0., 0.],[0., 0.08, -1.32, 0.],[0.72, 1.17, 0.7, -7.07]])\n",
    "D1 = ml.matrix([[0.25, 0.38, 0.64, 0.],[0., 0., 0., 1.09],[0., 1.24, 0., 0.],[0.37, 0., 0., 0.]])\n",
    "D2 = ml.matrix([[0.3, 1.0, 0., 0.48],[0., 0.2, 0., 0.],[0., 0., 0., 0.],[0.61, 0., 0., 0.2]])\n",
    "D3 = ml.matrix([[0., 0.98, 0., 0.31],[0., 0., 1.0, 0.],[0., 0., 0., 0.],[1.1, 0.84, 0.33, 1.03]])\n",
    "sigma1 = ml.matrix([[0.25,0.75]])\n",
    "S1 = ml.matrix([[-2.5, 2.5],[0., -10.]])\n",
    "sigma2 = ml.matrix([[1.]])\n",
    "S2 = ml.matrix([[-2.]])\n",
    "sigma3 = ml.matrix([[0.83333,0.11404,0.05263]])\n",
    "S3 = ml.matrix([[-3., 0., 0.],[0.73077, -0.73077, 0.],[0., 0.5, -0.5]])"
   ]
  },
  {
   "cell_type": "markdown",
   "metadata": {},
   "source": [
    "The function solving the system is **MMAPPH1FCFS**. The parameters are the same as we saw before. First the moments and the distribution of the number of customers is calculated for each customer type."
   ]
  },
  {
   "cell_type": "code",
   "execution_count": 19,
   "metadata": {
    "collapsed": true
   },
   "outputs": [],
   "source": [
    "ncm1, ncd1, ncm2, ncd2, ncm3, ncd3 = MMAPPH1FCFS([D0, D1, D2, D3], [sigma1, sigma2, sigma3], [S1, S2, S3], \"ncMoms\", 3, \"ncDistr\", 15)"
   ]
  },
  {
   "cell_type": "markdown",
   "metadata": {},
   "source": [
    "The DPH and MG representation for the number of customers in the system is not available (yet). However, PH and ME representations are available for the sojourn time distribution, as well as the direct computation of the cdf and the moments:"
   ]
  },
  {
   "cell_type": "code",
   "execution_count": 20,
   "metadata": {
    "collapsed": false
   },
   "outputs": [],
   "source": [
    "distrPoints = [1., 5., 10.]\n",
    "stm1, std1, stm2, std2, stm3, std3 = MMAPPH1FCFS([D0, D1, D2, D3], [sigma1, sigma2, sigma3], [S1, S2, S3], \"stMoms\", 3, \"stDistr\", distrPoints)\n",
    "betap1, Bp1, betap2, Bp2, betap3, Bp3 = MMAPPH1FCFS([D0, D1, D2, D3], [sigma1, sigma2, sigma3], [S1, S2, S3], \"stDistrPH\")\n",
    "beta1, B1, beta2, B2, beta3, B3 = MMAPPH1FCFS([D0, D1, D2, D3], [sigma1, sigma2, sigma3], [S1, S2, S3], \"stDistrME\")"
   ]
  },
  {
   "cell_type": "markdown",
   "metadata": {},
   "source": [
    "Plotting the distribution of the number of customers in the system and the sojourn time can be done by the following code."
   ]
  },
  {
   "cell_type": "code",
   "execution_count": 21,
   "metadata": {
    "collapsed": false
   },
   "outputs": [
    {
     "data": {
      "image/png": "[encoded data removed]",
      "text/plain": [
       "<matplotlib.figure.Figure at 0x7ffa0d9bc240>"
      ]
     },
     "metadata": {},
     "output_type": "display_data"
    }
   ],
   "source": [
    "plt.figure(figsize=(12,4))\n",
    "plt.subplot(121)\n",
    "plt.title(\"Distribution of the number of customers\")\n",
    "x = np.arange(15)\n",
    "plt.plot(x,ncd1,x,ncd2,x,ncd3)\n",
    "plt.subplot(122)\n",
    "plt.title(\"Density of the sojourn time\")\n",
    "stdx = np.linspace (0,1,100)\n",
    "stdy1 = PdfFromME(beta1,B1,stdx)\n",
    "stdy2 = PdfFromME(beta2,B2,stdx)\n",
    "stdy3 = PdfFromME(beta3,B3,stdx)\n",
    "plt.plot(stdx,stdy1,stdx,stdy2,stdx,stdy3);"
   ]
  },
  {
   "cell_type": "markdown",
   "metadata": {},
   "source": [
    "Finally, we check the Little formula for each class."
   ]
  },
  {
   "cell_type": "code",
   "execution_count": 22,
   "metadata": {
    "collapsed": false
   },
   "outputs": [
    {
     "name": "stdout",
     "output_type": "stream",
     "text": [
      "lambda1*E(T1) - E(X1) =  -4.79616346638e-14\n",
      "lambda2*E(T2) - E(X2) =  -1.1990408666e-14\n",
      "lambda3*E(T3) - E(X3) =  -3.73034936274e-14\n"
     ]
    }
   ],
   "source": [
    "lambd1 = 1./MarginalMomentsFromMAP(D0+D2+D3,D1,1)[0]\n",
    "lambd2 = 1./MarginalMomentsFromMAP(D0+D1+D3,D2,1)[0]\n",
    "lambd3 = 1./MarginalMomentsFromMAP(D0+D1+D2,D3,1)[0]\n",
    "print(\"lambda1*E(T1) - E(X1) = \", ncm1[0]-stm1[0]*lambd1)\n",
    "print(\"lambda2*E(T2) - E(X2) = \", ncm2[0]-stm2[0]*lambd2)\n",
    "print(\"lambda3*E(T3) - E(X3) = \", ncm3[0]-stm3[0]*lambd3)"
   ]
  },
  {
   "cell_type": "markdown",
   "metadata": {},
   "source": [
    "### Priority Queues"
   ]
  },
  {
   "cell_type": "markdown",
   "metadata": {},
   "source": [
    "BuTools has a unique tool: it implements the state-of-the art algorithms for solving the MMAP[K]/PH[K]/1 priority queues, both with preemptive resume and with non-preemptive service. The results are exact, and the solution time is reasonable."
   ]
  },
  {
   "cell_type": "markdown",
   "metadata": {},
   "source": [
    "Let us define an example with 3 classes of customers:"
   ]
  },
  {
   "cell_type": "code",
   "execution_count": 23,
   "metadata": {
    "collapsed": true
   },
   "outputs": [],
   "source": [
    "D0 = ml.matrix([[-5.49, 0., 1.15, 0.],[0., -2.29, 0., 0.],[0., 0.08, -1.32, 0.],[0.72, 1.17, 0.7, -7.07]])\n",
    "D1 = ml.matrix([[0.25, 0.38, 0.64, 0.],[0., 0., 0., 1.09],[0., 1.24, 0., 0.],[0.37, 0., 0., 0.]])\n",
    "D2 = ml.matrix([[0.3, 1.0, 0., 0.48],[0., 0.2, 0., 0.],[0., 0., 0., 0.],[0.61, 0., 0., 0.2]])\n",
    "D3 = ml.matrix([[0., 0.98, 0., 0.31],[0., 0., 1.0, 0.],[0., 0., 0., 0.],[1.1, 0.84, 0.33, 1.03]])\n",
    "sigma1 = ml.matrix([[0.25,0.75]])\n",
    "S1 = ml.matrix([[-2.5, 2.5],[0., -10.]])\n",
    "sigma2 = ml.matrix([[1.]])\n",
    "S2 = ml.matrix([[-2.]])\n",
    "sigma3 = ml.matrix([[0.83333,0.11404,0.05263]])\n",
    "S3 = ml.matrix([[-3., 0., 0.],[0.73077, -0.73077, 0.],[0., 0.5, -0.5]])"
   ]
  },
  {
   "cell_type": "markdown",
   "metadata": {},
   "source": [
    "The performance measures are obatined by the **MMAPPH1PRPR** for the preemptive resume service. The parameters are exactly the same as in the previous multi-type FCFS case. The number of customers in the system is not DPH/MG distributed, and the service times are not PH/ME distributed, thus the distributions and the moments can be obtained in a direct way only."
   ]
  },
  {
   "cell_type": "markdown",
   "metadata": {},
   "source": [
    "The number of customers (both the distribution and the moments) are returned quickly."
   ]
  },
  {
   "cell_type": "code",
   "execution_count": 24,
   "metadata": {
    "collapsed": false
   },
   "outputs": [],
   "source": [
    "ncm1, ncd1, ncm2, ncd2, ncm3, ncd3 = MMAPPH1PRPR([D0, D1, D2, D3], [sigma1, sigma2, sigma3], [S1, S2, S3], \"ncMoms\", 3, \"ncDistr\", 50)"
   ]
  },
  {
   "cell_type": "markdown",
   "metadata": {},
   "source": [
    "Let us plot it:"
   ]
  },
  {
   "cell_type": "code",
   "execution_count": 25,
   "metadata": {
    "collapsed": false
   },
   "outputs": [
    {
     "data": {
      "image/png": "[encoded data removed]",
      "text/plain": [
       "<matplotlib.figure.Figure at 0x7ffa0d92fba8>"
      ]
     },
     "metadata": {},
     "output_type": "display_data"
    }
   ],
   "source": [
    "x = np.arange(50)\n",
    "plt.figure(figsize=(12,4))\n",
    "plt.subplot(121)\n",
    "plt.title(\"Distribution of the number of customers, body\")\n",
    "plt.plot(x,ncd1,x,ncd2,x,ncd3)\n",
    "plt.subplot(122)\n",
    "plt.title(\"Distribution of the number of customers, tail\")\n",
    "plt.loglog(x,ncd1,x,ncd2,x,ncd3);"
   ]
  },
  {
   "cell_type": "markdown",
   "metadata": {},
   "source": [
    "The sojourn time distribution needs more effort to compute, but the moments are returned instantly."
   ]
  },
  {
   "cell_type": "code",
   "execution_count": 26,
   "metadata": {
    "collapsed": false
   },
   "outputs": [
    {
     "name": "stdout",
     "output_type": "stream",
     "text": [
      "sojourn time moments, class1:  [16.306011640793987, 806.62985258583274, 65397.232945356853]\n",
      "sojourn time moments, class2:  [5.505255217664927, 107.77744442363372, 3848.0354975571686]\n",
      "sojourn time moments, class3:  [1.9703276379879364, 11.741190396361684, 112.84868513581137]\n",
      "sojourn time cdf, class1:  [ 0.22163641  0.43134402  0.56865469]\n",
      "sojourn time cdf, class2:  [ 0.343457    0.69323814  0.8313128 ]\n",
      "sojourn time cdf, class3:  [ 0.55656947  0.88197026  0.97479216]\n"
     ]
    }
   ],
   "source": [
    "distrPoints = [1., 5., 10.]\n",
    "stm1, std1, stm2, std2, stm3, std3 = MMAPPH1PRPR([D0, D1, D2, D3], [sigma1, sigma2, sigma3], [S1, S2, S3], \"stMoms\", 3, \"stDistr\", distrPoints)\n",
    "print(\"sojourn time moments, class1: \", stm1)\n",
    "print(\"sojourn time moments, class2: \", stm2)\n",
    "print(\"sojourn time moments, class3: \", stm3)\n",
    "print(\"sojourn time cdf, class1: \", std1)\n",
    "print(\"sojourn time cdf, class2: \", std2)\n",
    "print(\"sojourn time cdf, class3: \", std3)"
   ]
  },
  {
   "cell_type": "markdown",
   "metadata": {},
   "source": [
    "The Little formula holds for this system as well:"
   ]
  },
  {
   "cell_type": "code",
   "execution_count": 27,
   "metadata": {
    "collapsed": false
   },
   "outputs": [
    {
     "name": "stdout",
     "output_type": "stream",
     "text": [
      "lambda1*E(T1) - E(X1) =  -1.06581410364e-14\n",
      "lambda2*E(T2) - E(X2) =  -1.7763568394e-15\n",
      "lambda3*E(T3) - E(X3) =  4.88498130835e-15\n"
     ]
    }
   ],
   "source": [
    "lambd1 = 1./MarginalMomentsFromMAP(D0+D2+D3,D1,1)[0]\n",
    "lambd2 = 1./MarginalMomentsFromMAP(D0+D1+D3,D2,1)[0]\n",
    "lambd3 = 1./MarginalMomentsFromMAP(D0+D1+D2,D3,1)[0]\n",
    "print(\"lambda1*E(T1) - E(X1) = \", ncm1[0]-stm1[0]*lambd1)\n",
    "print(\"lambda2*E(T2) - E(X2) = \", ncm2[0]-stm2[0]*lambd2)\n",
    "print(\"lambda3*E(T3) - E(X3) = \", ncm3[0]-stm3[0]*lambd3)"
   ]
  },
  {
   "cell_type": "markdown",
   "metadata": {},
   "source": [
    "The non-preemptive case is similar, but the corresponding function is **MMAPPH1NPPR**."
   ]
  },
  {
   "cell_type": "markdown",
   "metadata": {},
   "source": [
    "Let us now compare the three multi-type scheduling policies: FCFS, preemptive pesume priority, and non-preemptive priority."
   ]
  },
  {
   "cell_type": "code",
   "execution_count": 31,
   "metadata": {
    "collapsed": true
   },
   "outputs": [],
   "source": [
    "stm1fcfs, std1fcfs, stm2fcfs, std2fcfs, stm3fcfs, std3fcfs = MMAPPH1FCFS([D0, D1, D2, D3], [sigma1, sigma2, sigma3], [S1, S2, S3], \"ncMoms\", 3, \"ncDistr\", 20)\n",
    "stm1prpr, std1prpr, stm2prpr, std2prpr, stm3prpr, std3prpr = MMAPPH1PRPR([D0, D1, D2, D3], [sigma1, sigma2, sigma3], [S1, S2, S3], \"ncMoms\", 3, \"ncDistr\", 20)\n",
    "stm1nppr, std1nppr, stm2nppr, std2nppr, stm3nppr, std3nppr = MMAPPH1NPPR([D0, D1, D2, D3], [sigma1, sigma2, sigma3], [S1, S2, S3], \"ncMoms\", 3, \"ncDistr\", 20)"
   ]
  },
  {
   "cell_type": "markdown",
   "metadata": {},
   "source": [
    "Comparing the distribution of the number of customers gives:"
   ]
  },
  {
   "cell_type": "code",
   "execution_count": 32,
   "metadata": {
    "collapsed": false
   },
   "outputs": [
    {
     "data": {
      "text/plain": [
       "[<matplotlib.lines.Line2D at 0x7ffa0d9c2f60>]"
      ]
     },
     "execution_count": 32,
     "metadata": {},
     "output_type": "execute_result"
    },
    {
     "data": {
      "image/png": "[encoded data removed]",
      "text/plain": [
       "<matplotlib.figure.Figure at 0x7ffa0daa3f60>"
      ]
     },
     "metadata": {},
     "output_type": "display_data"
    }
   ],
   "source": [
    "x = np.arange(20)\n",
    "plt.figure(figsize=(12,4))\n",
    "ax = plt.subplot(131)\n",
    "plt.title(\"Distr. of num. of cust, class 1\")\n",
    "ax.plot(x,std1fcfs)\n",
    "ax.plot(x,std1prpr)\n",
    "ax.plot(x,std1nppr)\n",
    "ax=plt.subplot(132)\n",
    "plt.title(\"Distr. of num. of cust, class 2\")\n",
    "ax.plot(x,std2fcfs)\n",
    "ax.plot(x,std2prpr)\n",
    "ax.plot(x,std2nppr)\n",
    "ax=plt.subplot(133)\n",
    "plt.title(\"Distr. of num. of cust, class 3\")\n",
    "ax.plot(x,std3fcfs)\n",
    "ax.plot(x,std3prpr)\n",
    "ax.plot(x,std3nppr)"
   ]
  },
  {
   "cell_type": "markdown",
   "metadata": {},
   "source": [
    "The distribution of the two priority policies are not too different. The mean values can tell more:"
   ]
  },
  {
   "cell_type": "code",
   "execution_count": 33,
   "metadata": {
    "collapsed": false
   },
   "outputs": [
    {
     "data": {
      "text/plain": [
       "[[6.46063, 18.0173, 17.5782],\n",
       " [1.51261, 1.30905, 1.27772],\n",
       " [4.87345, 1.49782, 1.71435]]"
      ]
     },
     "execution_count": 33,
     "metadata": {},
     "output_type": "execute_result"
    }
   ],
   "source": [
    "moms=[[stm1fcfs[0],stm1prpr[0],stm1nppr[0]],[stm2fcfs[0],stm2prpr[0],stm2nppr[0]],[stm3fcfs[0],stm3prpr[0],stm3nppr[0]]]\n",
    "moms"
   ]
  },
  {
   "cell_type": "markdown",
   "metadata": {},
   "source": [
    "For the first customer type (first row), the FCFS is the most beneficial (first column), and the preemptive priority is the worst. As expected, for the highest priority class (type 3, third row), the preemptive priority leads to the lowest number of customers."
   ]
  },
  {
   "cell_type": "markdown",
   "metadata": {},
   "source": [
    "## Continuous queues"
   ]
  },
  {
   "cell_type": "code",
   "execution_count": null,
   "metadata": {
    "collapsed": true
   },
   "outputs": [],
   "source": []
  }
 ],
 "metadata": {
  "kernelspec": {
   "display_name": "Python 3",
   "language": "python",
   "name": "python3"
  },
  "language_info": {
   "codemirror_mode": {
    "name": "ipython",
    "version": 3
   },
   "file_extension": ".py",
   "mimetype": "text/x-python",
   "name": "python",
   "nbconvert_exporter": "python",
   "pygments_lexer": "ipython3",
   "version": "3.4.3"
  }
 },
 "nbformat": 4,
 "nbformat_minor": 0
}
